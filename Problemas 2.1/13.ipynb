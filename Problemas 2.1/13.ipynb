{
 "cells": [
  {
   "cell_type": "markdown",
   "metadata": {},
   "source": [
    "<b>Calcule a derivada da função dada e determine a inclinação da reta tangente à curva da função no ponto c dado</b>"
   ]
  },
  {
   "cell_type": "markdown",
   "metadata": {},
   "source": [
    "<b>13. $f(x) = -\\frac{2}{x}, \\, c = -1$</b><br><br>\n",
    "<b>Calculando a derivada de $f(x)$</b><br><br>\n",
    "$f'(x) = -2\\cdot(x^{-1})$<br>\n",
    "$f'(x) = -2\\cdot(-1)\\cdot(x^{-1-1})$<br>\n",
    "$f'(x) = 2(x^{-2})$<br>\n",
    "$f'(x) = \\frac{2}{x^2}$<br><br>\n",
    "<b>Calculando a inclinação da reta tangente à curva da função</b><br>\n",
    "$f'(-1) = \\frac{2}{(-1)^2}$<br>\n",
    "$f'(-1) = \\frac{2}{1}$<br><br>\n",
    "Logo $m = 2$<br>\n",
    "<b>Calculando o valor de $y$<b><br><br>\n",
    "$y = - \\frac{2}{-1}$<br>\n",
    "$y = 2$<br><br>\n",
    "<b>Pares ordenados</b><br><br>\n",
    "$(-1, 2)$<br><br>\n",
    "<b>Descobrindo a função</b><br><br>\n",
    "$y - y_0 = m(x - x_0)$<br>\n",
    "$y - 2 = 2(x - (-1)$<br>\n",
    "$y - 2 = 2(x + 1)$<br>\n",
    "$y - 2 = 2x + 2$<br>\n",
    "$y = 2x + 4$<br>"
   ]
  }
 ],
 "metadata": {
  "kernelspec": {
   "display_name": "Python 3",
   "language": "python",
   "name": "python3"
  },
  "language_info": {
   "codemirror_mode": {
    "name": "ipython",
    "version": 3
   },
   "file_extension": ".py",
   "mimetype": "text/x-python",
   "name": "python",
   "nbconvert_exporter": "python",
   "pygments_lexer": "ipython3",
   "version": "3.6.4"
  }
 },
 "nbformat": 4,
 "nbformat_minor": 2
}
