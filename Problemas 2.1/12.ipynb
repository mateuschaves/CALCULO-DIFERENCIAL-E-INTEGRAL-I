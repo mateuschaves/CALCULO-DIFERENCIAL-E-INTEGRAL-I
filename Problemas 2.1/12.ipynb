{
 "cells": [
  {
   "cell_type": "markdown",
   "metadata": {},
   "source": [
    "<b>Calcule a derivada da função dada e determine a inclinação da reta tangente à curva da função no ponto c dado.</b>\n"
   ]
  },
  {
   "cell_type": "markdown",
   "metadata": {},
   "source": [
    "<b> 12. $f(x) = 2 - 3x^2, \\, c = 1$</b>"
   ]
  },
  {
   "cell_type": "markdown",
   "metadata": {},
   "source": [
    "<b>Calculando a derivada de $f(x)$</b><br><br>\n",
    "$f'(x) = -6x$<br><br>\n",
    "<b>Calculando a inclinação da reta tangente à curva da função</b><br><br>\n",
    "$f'(1) = -6\\cdot(1)$<br>\n",
    "$f'(1) = -6\\,$ <br>\n",
    "Logo  $\\, m = -6$<br><br>\n",
    "<b>Calculando o valor de $y$<b><br><br>\n",
    "$y = 2 - 3\\cdot(1^2)$<br>\n",
    "$y = 2 - 3$<br>\n",
    "$y = -1$<br><br>\n",
    "<b>Pares ordenados</b><br><br>\n",
    "$(1, -1)$<br><br>\n",
    "<b>Descobrindo a função</b><br><br>\n",
    "$y - y_0 = m(x - x_0)$<br>\n",
    "$y - (-1) = -6(x - 1)$<br>\n",
    "$y + 1 = -6x + 6$<br>\n",
    "$y = -6x + 5$<br>"
   ]
  }
 ],
 "metadata": {
  "kernelspec": {
   "display_name": "Python 3",
   "language": "python",
   "name": "python3"
  },
  "language_info": {
   "codemirror_mode": {
    "name": "ipython",
    "version": 3
   },
   "file_extension": ".py",
   "mimetype": "text/x-python",
   "name": "python",
   "nbconvert_exporter": "python",
   "pygments_lexer": "ipython3",
   "version": "3.6.4"
  }
 },
 "nbformat": 4,
 "nbformat_minor": 2
}
