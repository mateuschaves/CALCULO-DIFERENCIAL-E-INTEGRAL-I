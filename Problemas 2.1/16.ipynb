{
 "cells": [
  {
   "cell_type": "markdown",
   "metadata": {},
   "source": [
    "<b>Calcule a derivada da função dada e determine a inclinação da reta tangente à curva da função no ponto c dado</b>"
   ]
  },
  {
   "cell_type": "markdown",
   "metadata": {},
   "source": [
    "<b>16. $f(x) = \\frac{3}{x^2}, \\, c = \\frac{1}{2}$</b><br><br>\n",
    "<b>Calculando a derivada de $f(x)$</b><br><br>\n",
    "$f'(x) = 3\\cdot(x^{-2})$<br>\n",
    "$f'(x) = -2\\cdot 3\\cdot(x^{-2-1})$<br>\n",
    "$f'(x) =  -6\\cdot(x^{-3})$<br>\n",
    "$f'(x) =  -\\frac{6}{x^3}$<br><br>\n",
    "<b>Calculando a inclinação da reta tangente à curva da função</b><br>\n",
    "$f'(\\frac{1}{2}) = -\\frac{6}{(\\frac{1}{2})^3}$<br>\n",
    "$f'(\\frac{1}{2}) = -\\frac{6}{\\frac{1}{8}}$<br>\n",
    "$f'(\\frac{1}{2}) = - 6 \\cdot \\frac{8}{1}$<br>\n",
    "$f'(\\frac{1}{2}) = -48$<br><br>\n",
    "Logo $m = -48$<br><br>\n",
    "<b>Calculando o valor de $y$<b><br><br>\n",
    "$y = \\frac{3}{(\\frac{1}{2})^2}$<br>\n",
    "$y = \\frac{3}{\\frac{1}{4}}$<br>\n",
    "$y = 3 \\cdot \\frac{4}{1}$<br>\n",
    "$y = 12$<br><br>\n",
    "<b>Pares ordenados</b><br><br>\n",
    "$(\\frac{1}{2}, 12)$<br><br>\n",
    "<b>Descobrindo a função</b><br><br>\n",
    "$y - y_0 = m(x - x_0)$<br>\n",
    "$y - 12 = -48(x - \\frac{1}{2})$<br>\n",
    "$y - 12 = -48x + 24$<br>\n",
    "$y = -48x + 36$<br>"
   ]
  }
 ],
 "metadata": {
  "kernelspec": {
   "display_name": "Python 3",
   "language": "python",
   "name": "python3"
  },
  "language_info": {
   "codemirror_mode": {
    "name": "ipython",
    "version": 3
   },
   "file_extension": ".py",
   "mimetype": "text/x-python",
   "name": "python",
   "nbconvert_exporter": "python",
   "pygments_lexer": "ipython3",
   "version": "3.6.4"
  }
 },
 "nbformat": 4,
 "nbformat_minor": 2
}
