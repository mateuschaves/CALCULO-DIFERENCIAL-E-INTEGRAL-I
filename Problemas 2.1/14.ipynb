{
 "cells": [
  {
   "cell_type": "markdown",
   "metadata": {},
   "source": [
    "<b>Calcule a derivada da função dada e determine a inclinação da reta tangente à curva da função no ponto c dado</b>"
   ]
  },
  {
   "cell_type": "markdown",
   "metadata": {},
   "source": [
    "<b>14. $f(x) = x³ - 1 , \\, c = 1$</b><br><br>\n",
    "<b>Calculando a derivada de $f(x)$</b><br><br>\n",
    "$f'(x) = 3x^2$<br><br>\n",
    "<b>Calculando a inclinação da reta tangente à curva da função</b><br>\n",
    "$f'(1) = 3\\cdot(1)^3$<br>\n",
    "$f'(1) = 3$<br><br>\n",
    "Logo $m = 3$<br>\n",
    "<b>Calculando o valor de $y$<b><br><br>\n",
    "$y = 1^3 -1$<br>\n",
    "$y = 1 - 1$<br>\n",
    "$y = 0$<br><br>\n",
    "<b>Pares ordenados</b><br><br>\n",
    "$(1, 0)$<br><br>\n",
    "<b>Descobrindo a função</b><br><br>\n",
    "$y - y_0 = m(x - x_0)$<br>\n",
    "$y - 0 = 3(x - 1)$<br>\n",
    "$y = 3x - 3$<br>"
   ]
  }
 ],
 "metadata": {
  "kernelspec": {
   "display_name": "Python 3",
   "language": "python",
   "name": "python3"
  },
  "language_info": {
   "codemirror_mode": {
    "name": "ipython",
    "version": 3
   },
   "file_extension": ".py",
   "mimetype": "text/x-python",
   "name": "python",
   "nbconvert_exporter": "python",
   "pygments_lexer": "ipython3",
   "version": "3.6.4"
  }
 },
 "nbformat": 4,
 "nbformat_minor": 2
}
