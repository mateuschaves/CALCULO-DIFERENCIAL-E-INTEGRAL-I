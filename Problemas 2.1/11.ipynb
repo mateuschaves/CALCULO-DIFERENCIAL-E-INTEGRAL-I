{
 "cells": [
  {
   "cell_type": "markdown",
   "metadata": {},
   "source": [
    "<b>Calcule a derivada da função dada e determine a inclinação da reta tangente à curva da função no ponto c dado</b>"
   ]
  },
  {
   "cell_type": "markdown",
   "metadata": {},
   "source": [
    "<b>11. $f(x) = 7 -2x, \\, c = 5$</b><br><br>\n",
    "<b>Calculando a derivada de $f(x)$</b><br><br>\n",
    "$f'(x) = -2$<br><br>\n",
    "<b>Calculando o valor de $y$<b><br><br>\n",
    "$y = 7 - 2\\cdot(5)$<br>\n",
    "$y = 7 - 10$<br>\n",
    "$y = -3$<br><br>\n",
    "<b>Pares ordenados</b><br><br>\n",
    "$(5, -3)$<br><br>\n",
    "<b>Descobrindo a função</b><br><br>\n",
    "$y - y_0 = m(x - x_0)$<br>\n",
    "$y - (-3) = -2(x - 5)$<br>\n",
    "$y + 3 = -2x + 10$<br>\n",
    "$y = -2x + 7$<br>"
   ]
  }
 ],
 "metadata": {
  "kernelspec": {
   "display_name": "Python 3",
   "language": "python",
   "name": "python3"
  },
  "language_info": {
   "codemirror_mode": {
    "name": "ipython",
    "version": 3
   },
   "file_extension": ".py",
   "mimetype": "text/x-python",
   "name": "python",
   "nbconvert_exporter": "python",
   "pygments_lexer": "ipython3",
   "version": "3.6.4"
  }
 },
 "nbformat": 4,
 "nbformat_minor": 2
}
