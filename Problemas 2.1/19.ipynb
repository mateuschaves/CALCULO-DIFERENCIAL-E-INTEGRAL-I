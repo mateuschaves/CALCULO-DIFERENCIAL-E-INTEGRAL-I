{
 "cells": [
  {
   "cell_type": "markdown",
   "metadata": {},
   "source": [
    "<b>Determine a taxa de variação $\\frac{dy}{dx}$ no ponto $x_0$ dado.</b>"
   ]
  },
  {
   "cell_type": "markdown",
   "metadata": {},
   "source": [
    "<b>19. $y = x(1 - x),\\,  x_0 = -1$</b><br><br>\n",
    "<b>Derivando a função</b><br>\n",
    "$f'(x) = 1 -2x$<b><br><br>\n",
    "<b>Calculando a taxa de variação</b><br>\n",
    "$f'(-1) = 1 -2\\cdot(-1)$<br>\n",
    "$f'(-1) = 1 + 2$<br>\n",
    "$f'(-1) = 3$<br>"
   ]
  }
 ],
 "metadata": {
  "kernelspec": {
   "display_name": "Python 3",
   "language": "python",
   "name": "python3"
  },
  "language_info": {
   "codemirror_mode": {
    "name": "ipython",
    "version": 3
   },
   "file_extension": ".py",
   "mimetype": "text/x-python",
   "name": "python",
   "nbconvert_exporter": "python",
   "pygments_lexer": "ipython3",
   "version": "3.6.4"
  }
 },
 "nbformat": 4,
 "nbformat_minor": 2
}
