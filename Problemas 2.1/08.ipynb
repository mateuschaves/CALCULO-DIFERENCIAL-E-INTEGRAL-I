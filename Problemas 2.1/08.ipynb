{
 "cells": [
  {
   "cell_type": "markdown",
   "metadata": {},
   "source": [
    "<b>Calcule a derivada da função dada e determine a inclinação da reta tangente à curva da função no ponto dado.</b>"
   ]
  },
  {
   "cell_type": "markdown",
   "metadata": {},
   "source": [
    "<b>8. $h(u) = \\frac{1}{\\sqrt{u}}, \\, u = 4 $</b>"
   ]
  },
  {
   "cell_type": "markdown",
   "metadata": {},
   "source": [
    "<b> Calculando a derivada de $f(x)$</b>"
   ]
  },
  {
   "cell_type": "markdown",
   "metadata": {},
   "source": [
    "$h'(u) = \\frac{1}{u^{\\frac{1}{2}}}$<br>\n",
    "$h'(u) = 1(u^{-\\frac{1}{2}})$<br>\n",
    "$h'(u) = -\\frac{1}{2}(u^{-\\frac{1}{2} - 1})$<br>\n",
    "$h'(u) = -\\frac{1}{2}(u^{-\\frac{3}{2}})$<br>\n",
    "$h'(u) = -\\frac{1}{2}\\frac{1}{\\sqrt{u^3}}$<br>\n",
    "$h'(u) = -\\frac{1}{2\\sqrt{u^3}}$<br>"
   ]
  },
  {
   "cell_type": "markdown",
   "metadata": {},
   "source": [
    "<b>Calculando a inclinação da reta à curva da função <b>"
   ]
  },
  {
   "cell_type": "markdown",
   "metadata": {},
   "source": [
    "$f'(4) = -\\frac{1}{2\\sqrt{4^3}}$<br>\n",
    "$f'(4) = -\\frac{1}{2\\sqrt{64}}$<br>\n",
    "$f'(4) = -\\frac{1}{2*8}$<br>\n",
    "$f'(4) = -\\frac{1}{16}$<br>\n",
    "$m = -\\frac{1}{16}$<br>"
   ]
  }
 ],
 "metadata": {
  "kernelspec": {
   "display_name": "Python 3",
   "language": "python",
   "name": "python3"
  },
  "language_info": {
   "codemirror_mode": {
    "name": "ipython",
    "version": 3
   },
   "file_extension": ".py",
   "mimetype": "text/x-python",
   "name": "python",
   "nbconvert_exporter": "python",
   "pygments_lexer": "ipython3",
   "version": "3.6.4"
  }
 },
 "nbformat": 4,
 "nbformat_minor": 2
}
