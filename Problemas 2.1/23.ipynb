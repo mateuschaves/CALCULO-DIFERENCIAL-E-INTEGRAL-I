{
 "cells": [
  {
   "cell_type": "markdown",
   "metadata": {},
   "source": [
    "<b> 23. Suponha que $f(x) = x^3$</b>"
   ]
  },
  {
   "cell_type": "markdown",
   "metadata": {},
   "source": [
    "a) Calcule a inclinação da reta secante que liga os pontos da curva de $f$ cujas coordenadas $x$ são $x = 1$ e $x = 1.1$ "
   ]
  },
  {
   "cell_type": "markdown",
   "metadata": {},
   "source": [
    "b)Use os métodos do cálculo para determinar a inclinação da reta tangente á curva $f$ no ponto $x = 1$ e compare com o do item (a)"
   ]
  },
  {
   "cell_type": "markdown",
   "metadata": {},
   "source": [
    "<b> a) Derivando a função</b><br><br>\n",
    "$f'(x) = 3x^2$<br><br>\n",
    "<b> Calculando o valor de $y_0$<b><br><br>\n",
    "$y = 1^3$<br>\n",
    "$y = 1$<br><br>\n",
    "<b> Calculando o valor de $y_1$<b><br><br>\n",
    "$y = (1,1)^3$<br>\n",
    "$y = 1.331$<br><br>\n",
    "<b>Pares ordenados</b><br><br>\n",
    "$(1,1), \\, (1.1, 1.331)$<br><br>\n",
    "<b>Calculando a inclinação da reta secante</b><br><br>\n",
    "$\\frac{\\Delta Y}{\\Delta X}$ = \n",
    "$\\frac{1,331 - 1}{1,1 - 1}$ =\n",
    "$\\frac{0,331}{0,1}$ =\n",
    "$3,31$<br><br>\n",
    "Logo $m_{sec} = 3,31$<br>\n",
    "    \n"
   ]
  }
 ],
 "metadata": {
  "kernelspec": {
   "display_name": "Python 3",
   "language": "python",
   "name": "python3"
  },
  "language_info": {
   "codemirror_mode": {
    "name": "ipython",
    "version": 3
   },
   "file_extension": ".py",
   "mimetype": "text/x-python",
   "name": "python",
   "nbconvert_exporter": "python",
   "pygments_lexer": "ipython3",
   "version": "3.6.4"
  }
 },
 "nbformat": 4,
 "nbformat_minor": 2
}
