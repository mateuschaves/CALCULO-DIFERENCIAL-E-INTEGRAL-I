{
 "cells": [
  {
   "cell_type": "markdown",
   "metadata": {},
   "source": [
    "<b> 24. Suponha que $f(x) = x^2$</b>"
   ]
  },
  {
   "cell_type": "markdown",
   "metadata": {},
   "source": [
    "a) Calcule a inclinação da reta secante que liga os pontos da curva de $f$ cujas coordenadas $x$ são  $x = -2$ e $x = -1,9$.<br>"
   ]
  },
  {
   "cell_type": "markdown",
   "metadata": {},
   "source": [
    "b) Use os métodos do cálculo para determinar a inclinação da reta tangente à curva de $f$ no ponto $x = -2$ e compare o resultado com o do item (a)"
   ]
  },
  {
   "cell_type": "markdown",
   "metadata": {},
   "source": [
    "<b> a) Derivando a função</b><br><br>\n",
    "$f'(x) = 2x$<br><br>\n",
    "\n",
    "<b>Calculando $y_0$</b><br><br>\n",
    "$y_0 = (-1,9)²$<br>\n",
    "$y_0 = 3,61$<br><br>\n",
    "<b>Calculando $y_1$</b><br><br>\n",
    "$y_1 = (-2)^2$<br>\n",
    "$y_1 = 4$<br><br>\n",
    "<b>Pares ordenados</b><br><br>\n",
    "$(-1.9, 3.61), (-2, 4)$<br><br>\n",
    "$\\frac{\\Delta Y}{\\Delta X} = \\frac{4 - 3,61}{-2 -(-1,9)} = \\frac{0,39}{-0,1} = -3,9\\, $, logo $m_{sec} = -3,9$<br><br>\n",
    "\n",
    "<b> b) Derivando a função</b><br><br>\n",
    "$f'(x) = 2x$<br><br>\n",
    "<b>Calculando a inclinação da reta tangente à curva da função</b><br><br>\n",
    "$f'(-2) = 2\\cdot(-2)$<br>\n",
    "$f'(-2) = -4,\\, $ logo $m_{tan} = -4$<br>\n",
    "\n"
   ]
  }
 ],
 "metadata": {
  "kernelspec": {
   "display_name": "Python 3",
   "language": "python",
   "name": "python3"
  },
  "language_info": {
   "codemirror_mode": {
    "name": "ipython",
    "version": 3
   },
   "file_extension": ".py",
   "mimetype": "text/x-python",
   "name": "python",
   "nbconvert_exporter": "python",
   "pygments_lexer": "ipython3",
   "version": "3.6.4"
  }
 },
 "nbformat": 4,
 "nbformat_minor": 2
}
