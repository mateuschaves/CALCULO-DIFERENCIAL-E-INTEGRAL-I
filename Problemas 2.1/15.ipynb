{
 "cells": [
  {
   "cell_type": "markdown",
   "metadata": {},
   "source": [
    "<b>Calcule a derivada da função dada e determine a inclinação da reta tangente à curva da função no ponto c dado</b>"
   ]
  },
  {
   "cell_type": "markdown",
   "metadata": {},
   "source": [
    "<b>15. $f(x) = 2\\cdot\\sqrt{x} , \\, c = 4$</b><br><br>\n",
    "<b>Calculando a derivada de $f(x)$</b><br><br>\n",
    "$f'(x) = 2\\cdot(x^\\frac{1}{2})$<br>\n",
    "$f'(x) = \\frac{1}{2}\\cdot(2)\\cdot(x^{\\frac{1}{2}-1})$<br>\n",
    "$f'(x) = 1\\cdot(x^{-\\frac{1}{2}})$<br>\n",
    "$f'(x) = \\frac{1}{x^{\\frac{1}{2}}}$<br>\n",
    "$f'(x) = \\frac{1}{\\sqrt{x}}$<br><br>\n",
    "<b>Calculando a inclinação da reta tangente à curva da função</b><br>\n",
    "$f'(4) = \\frac{1}{\\sqrt{4}}$<br>\n",
    "$f'(4) = \\frac{1}{2}$<br><br>\n",
    "Logo $m = \\frac{1}{2}$<br>\n",
    "<b>Calculando o valor de $y$<b><br><br>\n",
    "$y = 2\\cdot\\sqrt{4}$<br>\n",
    "$y = 2\\cdot2$<br>\n",
    "$y = 4$<br><br>\n",
    "<b>Pares ordenados</b><br><br>\n",
    "$(4, 4)$<br><br>\n",
    "<b>Descobrindo a função</b><br><br>\n",
    "$y - y_0 = m(x - x_0)$<br>\n",
    "$y - 4 = \\frac{1}{2}(x - 4)$<br>\n",
    "$y - 4 = \\frac{1}{2}x - 2$<br>\n",
    "$y = \\frac{1}{2}x + 2$<br>"
   ]
  }
 ],
 "metadata": {
  "kernelspec": {
   "display_name": "Python 3",
   "language": "python",
   "name": "python3"
  },
  "language_info": {
   "codemirror_mode": {
    "name": "ipython",
    "version": 3
   },
   "file_extension": ".py",
   "mimetype": "text/x-python",
   "name": "python",
   "nbconvert_exporter": "python",
   "pygments_lexer": "ipython3",
   "version": "3.6.4"
  }
 },
 "nbformat": 4,
 "nbformat_minor": 2
}
