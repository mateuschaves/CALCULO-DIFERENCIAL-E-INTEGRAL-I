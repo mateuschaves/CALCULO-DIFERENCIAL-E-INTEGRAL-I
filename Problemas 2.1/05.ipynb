{
 "cells": [
  {
   "cell_type": "markdown",
   "metadata": {},
   "source": [
    "<b>Calcule a derivada da função dada e determine a inclinação da reta tangente à curva da função no ponto dado.</b>"
   ]
  },
  {
   "cell_type": "markdown",
   "metadata": {},
   "source": [
    "<b>5. $f(x) = \\frac{2}{t} t = \\frac{1}{2}$</b>"
   ]
  },
  {
   "cell_type": "markdown",
   "metadata": {},
   "source": [
    "<b>Calculando a derivada de $f(x)$</b>"
   ]
  },
  {
   "cell_type": "markdown",
   "metadata": {},
   "source": [
    "$f'(t) = 2 \cdot t^{-1}$<br>\n",
    "$f'(t) = -2 \cdot t^{-2}$<br>\n",
    "$f'(t) = -\\frac{2}{t^2}$<br>"
   ]
  },
  {
   "cell_type": "markdown",
   "metadata": {},
   "source": [
    "<b>Calculando a inclinação da reta tangente à curva da função<b>"
   ]
  },
  {
   "cell_type": "markdown",
   "metadata": {},
   "source": [
    "$f(\\frac{1}{2}) = - \\frac{2}{(\\frac{1}{2})^2}$<br>\n",
    "$f(\\frac{1}{2}) = - \\frac{2}{\\frac{1}{4}}$<br>\n",
    "$f(\\frac{1}{2}) = -2(\\frac{4}{1})$<br>\n",
    "$f(\\frac{1}{2}) = -8$<br>\n",
    "$m = -8$"
   ]
  }
 ],
 "metadata": {
  "kernelspec": {
   "display_name": "Python 3",
   "language": "python",
   "name": "python3"
  },
  "language_info": {
   "codemirror_mode": {
    "name": "ipython",
    "version": 3
   },
   "file_extension": ".py",
   "mimetype": "text/x-python",
   "name": "python",
   "nbconvert_exporter": "python",
   "pygments_lexer": "ipython3",
   "version": "3.6.4"
  }
 },
 "nbformat": 4,
 "nbformat_minor": 2
}
