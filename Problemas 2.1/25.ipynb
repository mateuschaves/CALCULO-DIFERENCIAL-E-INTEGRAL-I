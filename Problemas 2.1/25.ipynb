{
 "cells": [
  {
   "cell_type": "markdown",
   "metadata": {},
   "source": [
    "<b> 25. Suponha que $f(x) = 2x - x^2$</b>"
   ]
  },
  {
   "cell_type": "markdown",
   "metadata": {},
   "source": [
    "a) Calcule a inclinação da reta secante que liga os pontos da curva de $f$ cujas coordenadas $x$ são $x = 0$ e $x = \\frac{1}{2}$\n"
   ]
  },
  {
   "cell_type": "markdown",
   "metadata": {},
   "source": [
    "b) Use os métodos do cálculo para determinar a inclinação da reta tangente à curva de $f$ no ponto $x = 0$ e compare o resultado com o do item (a).\n"
   ]
  },
  {
   "cell_type": "markdown",
   "metadata": {},
   "source": [
    "<b>a) Calculando $y_0$</b><br><br>\n",
    "$y_0 = f(0) = 2(0) - (0)^2$<br>\n",
    "$y_0 = 0$<br><br>\n",
    "<b>Calculando $y_1$</b><br><br>\n",
    "$y_1 = f(\\frac{1}{2}) = 2\\cdot (\\frac{1}{2}) - 2\\cdot (\\frac{1}{2})^2$<br>\n",
    "$y_1 = 1 - 2\\cdot (\\frac{1}{4})$<br>\n",
    "$y_1 = 1 - \\frac{1}{2}$<br>\n",
    "$y_1 = \\frac{1}{2}$<br><br>\n",
    "\n",
    "<b>Pares ordenados</b><br><br>\n",
    "$(0,0), (\\frac{1}{2}, \\frac{1}{2})$<br><br>\n",
    "\n",
    "<b>Calculando a inclinação da reta secante</b><br><br>\n",
    "$\\frac{\\Delta Y}{\\Delta X} = \\frac{\\frac{1}{2} - 0}{\\frac{1}{2} - 0} = \\frac{\\frac{1}{2}}{\\frac{1}{2}} = 1$, logo $m_{sec} = 1$<br><br>\n",
    "\n",
    "<b>b) Derivando a função</b><br><br>\n",
    "$f'(x) = 2 - 2x$<br><br>\n",
    "<b>Calculando a inclinação da reta tangente à curva da função</b><br><br>\n",
    "$f'(0) = 2 - 2\\cdot(0)$<br>\n",
    "$f'(0) = 2$, logo $m_{tan} = 2$<br>"
   ]
  }
 ],
 "metadata": {
  "kernelspec": {
   "display_name": "Python 3",
   "language": "python",
   "name": "python3"
  },
  "language_info": {
   "codemirror_mode": {
    "name": "ipython",
    "version": 3
   },
   "file_extension": ".py",
   "mimetype": "text/x-python",
   "name": "python",
   "nbconvert_exporter": "python",
   "pygments_lexer": "ipython3",
   "version": "3.6.4"
  }
 },
 "nbformat": 4,
 "nbformat_minor": 2
}
