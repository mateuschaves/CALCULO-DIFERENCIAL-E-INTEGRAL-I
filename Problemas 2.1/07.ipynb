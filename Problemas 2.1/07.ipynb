{
 "cells": [
  {
   "cell_type": "markdown",
   "metadata": {},
   "source": [
    "<b>Calcule a derivada da função dada e determine a inclinação da reta tangente à curva da função no ponto dado.</b>"
   ]
  },
  {
   "cell_type": "markdown",
   "metadata": {},
   "source": [
    "<b>7. $f(x) = \\sqrt{x}, \\,  x = 9$<br>"
   ]
  },
  {
   "cell_type": "markdown",
   "metadata": {},
   "source": [
    "<b>Calculando a derivada de $f(x)$</b>"
   ]
  },
  {
   "cell_type": "markdown",
   "metadata": {},
   "source": [
    "$f'(x) = x^{\\frac{1}{2}}$<br>\n",
    "$f'(x) = \\frac{1}{2}x^{\\frac{1}{2} -1}$<br>\n",
    "$f'(x) = \\frac{1}{2}\\frac{1}{\\sqrt{x}}$<br>\n",
    "$f'(x) = \\frac{1}{2\\sqrt{x}}$<br>"
   ]
  },
  {
   "cell_type": "markdown",
   "metadata": {},
   "source": [
    "<b>Calculando a inclinação da reta tangente à curva da função</b>"
   ]
  },
  {
   "cell_type": "markdown",
   "metadata": {},
   "source": [
    "$f'(9) = \\frac{1}{2\\sqrt{9}}$<br>\n",
    "$f'(9) = \\frac{1}{2*3}$<br>\n",
    "$f'(9) = \\frac{1}{6}$<br>\n",
    "$m = \\frac{1}{6}$<br>"
   ]
  }
 ],
 "metadata": {
  "kernelspec": {
   "display_name": "Python 3",
   "language": "python",
   "name": "python3"
  },
  "language_info": {
   "codemirror_mode": {
    "name": "ipython",
    "version": 3
   },
   "file_extension": ".py",
   "mimetype": "text/x-python",
   "name": "python",
   "nbconvert_exporter": "python",
   "pygments_lexer": "ipython3",
   "version": "3.6.4"
  }
 },
 "nbformat": 4,
 "nbformat_minor": 2
}
