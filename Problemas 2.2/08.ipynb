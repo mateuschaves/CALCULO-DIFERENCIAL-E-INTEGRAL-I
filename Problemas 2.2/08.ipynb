{
 "cells": [
  {
   "cell_type": "markdown",
   "metadata": {},
   "source": [
    "<b>Calule a derivada da função dada. Simplifique as respostas.</b>"
   ]
  },
  {
   "cell_type": "markdown",
   "metadata": {},
   "source": [
    "<b>8. $ y = 2\\sqrt[4]{x^3}$"
   ]
  },
  {
   "cell_type": "markdown",
   "metadata": {},
   "source": [
    "<b>Tirar a constante $2$ da derivada: $ 2 \\frac{d}{dx}(\\sqrt[4]{x^3})$<br><br>\n",
    "\n",
    "<b>Aplicando a regra do radical: $ \\sqrt{a} = a^{\\frac{1}{2}}$<br><br>\n",
    "$ 2 \\cdot \\frac{d}{dx}(x)^{\\frac{3}{4}}$<br><br>\n",
    "<b>Aplicando a regra da potência: </b> $\\frac{d}{dx}(x^a) = a\\cdot x^{a-1}$<br><br>\n",
    "$ 2 \\cdot \\frac{d}{dx}(\\sqrt[4]{x^3}) = \\frac{3}{4}(x)^{\\frac{3}{4}-1}$<br>\n",
    "$ 2 \\cdot \\frac{d}{dx}(\\sqrt[4]{x^3}) = \\frac{3}{4}(x)^{-\\frac{1}{4}}$<br>   \n",
    "<b>Aplicando a regra do expoente: $ a^{-b} = \\frac{1}{a^b}$<br><br>\n",
    "\n",
    "$ 2 \\cdot \\frac{d}{dx}(\\sqrt[4]{x^3}) = \\frac{3}{4} \\cdot \\frac{1}{x^{\\frac{1}{4}}}$<br><br>\n",
    "<b>Aplicando a regra do radical: $ \\sqrt{a} = a^{\\frac{1}{2}}$<br><br>\n",
    "$ 2 \\cdot \\frac{d}{dx}(\\sqrt[4]{x^3}) = \\frac{3}{4} \\cdot \\frac{1}{\\sqrt[4]{x}}$<br><br>\n",
    "<b>Multiplicando pela constante</b><br><br>\n",
    "$2 \\cdot \\frac{d}{dx}(\\sqrt[4]{x^3}) = 2 \\cdot \\frac{3}{4} \\cdot \\frac{1}{\\sqrt[4]{x}}$<br>\n",
    "$2 \\cdot \\frac{d}{dx}(\\sqrt[4]{x^3}) =   \\frac{6}{4} \\cdot \\frac{1}{\\sqrt[4]{x}}$<br>    \n",
    "$2 \\cdot \\frac{d}{dx}(\\sqrt[4]{x^3}) =   \\frac{6}{4\\sqrt[4]{x}}$<br>   \n",
    "$2 \\cdot \\frac{d}{dx}(\\sqrt[4]{x^3}) =   \\frac{3}{2\\sqrt[4]{x}}$<br>\n"
   ]
  }
 ],
 "metadata": {
  "kernelspec": {
   "display_name": "Python 3",
   "language": "python",
   "name": "python3"
  },
  "language_info": {
   "codemirror_mode": {
    "name": "ipython",
    "version": 3
   },
   "file_extension": ".py",
   "mimetype": "text/x-python",
   "name": "python",
   "nbconvert_exporter": "python",
   "pygments_lexer": "ipython3",
   "version": "3.6.4"
  }
 },
 "nbformat": 4,
 "nbformat_minor": 2
}
