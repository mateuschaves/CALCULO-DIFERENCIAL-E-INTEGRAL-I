{
 "cells": [
  {
   "cell_type": "markdown",
   "metadata": {},
   "source": [
    "<b>Calule a derivada da função dada. Simplifique as respostas.</b>"
   ]
  },
  {
   "cell_type": "markdown",
   "metadata": {},
   "source": [
    "<b> 5. $y = \\pi r^2$<br>"
   ]
  },
  {
   "cell_type": "markdown",
   "metadata": {},
   "source": [
    "<b>Tirar a constante $\\pi$ da derivada: $\\pi \\frac{d}{dr}(r^2) = r^{2}$<br><br>\n",
    "\n",
    "<b>Aplique a regra da potência: </b> $\\frac{d}{dx}(x^a) = a\\cdot x^{a-1}$<br><br>\n",
    "\n",
    "$\\pi \\frac{d}{dr}(r^2) = 2r^{2-1}$<br>\n",
    "$\\pi \\frac{d}{dr}(r^2) = 2r^1$<br><br>\n",
    "\n",
    "<b>Multiplicando pela constante</b><br><br>\n",
    "$\\pi \\frac{d}{dr}(r^2) = 2\\pi r$<b>"
   ]
  }
 ],
 "metadata": {
  "kernelspec": {
   "display_name": "Python 3",
   "language": "python",
   "name": "python3"
  },
  "language_info": {
   "codemirror_mode": {
    "name": "ipython",
    "version": 3
   },
   "file_extension": ".py",
   "mimetype": "text/x-python",
   "name": "python",
   "nbconvert_exporter": "python",
   "pygments_lexer": "ipython3",
   "version": "3.6.4"
  }
 },
 "nbformat": 4,
 "nbformat_minor": 2
}
