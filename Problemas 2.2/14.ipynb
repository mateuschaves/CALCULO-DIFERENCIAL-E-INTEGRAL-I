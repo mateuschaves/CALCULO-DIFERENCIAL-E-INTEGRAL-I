{
 "cells": [
  {
   "cell_type": "markdown",
   "metadata": {},
   "source": [
    "<b>Calule a derivada da função dada. Simplifique as respostas.</b>"
   ]
  },
  {
   "cell_type": "markdown",
   "metadata": {},
   "source": [
    "<b>14. $f(x) = \\frac{1}{4}x^8 - \\frac{1}{2}x^6 -x + 2$</b>"
   ]
  },
  {
   "cell_type": "markdown",
   "metadata": {},
   "source": [
    "<b>Aplicando a regra da soma $\\frac{d}{dx}(f+g) = \\frac{d}{dx}(f) + \\frac{d}{dx}(g) $</b><br><br>\n",
    "$\\frac{d}{dx}(\\frac{1}{4}x^8) - \\frac{d}{dx}(\\frac{1}{2}x^6) - \\frac{d}{dx}(x) + \\frac{d}{dx}(2)$<br><br><br>\n",
    "\n",
    "\n",
    "<b>Tirando a constante: $\\frac{1}{4} \\cdot \\frac{d}{dx}(x^8)$<b><br><br>\n",
    "<b>Aplicando a regra da potência: </b> $\\frac{d}{dx}(x^a) = a\\cdot x^{a-1}$<br><br><br>\n",
    "\n",
    "$\\frac{1}{4} \\cdot \\frac{d}{dx}(x^8) = 8\\cdot x^{8-1}$<br><br>\n",
    "$\\frac{1}{4} \\cdot \\frac{d}{dx}(x^8) = 8x^7$<br><br>\n",
    "<b>Multiplicando pela constante</b><br><br><br>\n",
    "$\\frac{1}{4} \\cdot \\frac{d}{dx}(x^8) = \\frac{1}{4} \\cdot 8x^7$<br><br>\n",
    "$\\frac{1}{4} \\cdot \\frac{d}{dx}(x^8) = \\frac{8x^7}{4}$<br><br>\n",
    "$\\frac{1}{4} \\cdot \\frac{d}{dx}(x^8) = 2x^7$<br><br><br>\n",
    "\n",
    "<b>Tirando a constante: $- \\frac{1}{2} \\cdot \\frac{d}{dx}(x^6)$<b><br><br>\n",
    "\n",
    "$-\\frac{1}{2} \\cdot \\frac{d}{dx}(x^6) = 6\\cdot x^{6-1}$<br><br>\n",
    "$-\\frac{1}{2} \\cdot \\frac{d}{dx}(x^6) = 6x^5$<br><br>\n",
    "<b>Multiplicando pela constante</b><br><br><br>\n",
    "$-\\frac{1}{2} \\cdot \\frac{d}{dx}(x^6) = -\\frac{1}{2} \\cdot 6x^5$<br><br>\n",
    "$-\\frac{1}{2} \\cdot \\frac{d}{dx}(x^6) = -\\frac{6x^5}{2}$<br><br>\n",
    "$-\\frac{1}{2} \\cdot \\frac{d}{dx}(x^6) = -3x^5$<br><br><br>\n",
    "\n",
    "$\\frac{d}{dx}(-x) = -1$<br><br><br>\n",
    "<b>Derivada de uma constante é zero</b><br><br>\n",
    "$\\frac{d}{dx}(2) = 0$<br><br>\n",
    "\n",
    "$\\frac{d}{dx}(\\frac{1}{4}x^8) - \\frac{d}{dx}(\\frac{1}{2}x^6) - \\frac{d}{dx}(x) + \\frac{d}{dx}(2) = 2x^7 -3x^5 -1 $\n",
    "\n",
    "\n",
    "\n"
   ]
  }
 ],
 "metadata": {
  "kernelspec": {
   "display_name": "Python 3",
   "language": "python",
   "name": "python3"
  },
  "language_info": {
   "codemirror_mode": {
    "name": "ipython",
    "version": 3
   },
   "file_extension": ".py",
   "mimetype": "text/x-python",
   "name": "python",
   "nbconvert_exporter": "python",
   "pygments_lexer": "ipython3",
   "version": "3.6.4"
  }
 },
 "nbformat": 4,
 "nbformat_minor": 2
}
