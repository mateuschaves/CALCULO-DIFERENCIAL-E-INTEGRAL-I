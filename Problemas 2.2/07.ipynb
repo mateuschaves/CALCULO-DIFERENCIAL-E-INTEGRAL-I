{
 "cells": [
  {
   "cell_type": "markdown",
   "metadata": {},
   "source": [
    "<b>Calule a derivada da função dada. Simplifique as respostas.</b>"
   ]
  },
  {
   "cell_type": "markdown",
   "metadata": {},
   "source": [
    "<b> 7. $y = \\sqrt{2x}$<b>"
   ]
  },
  {
   "cell_type": "markdown",
   "metadata": {},
   "source": [
    "<b>Aplicando a regra do radical: $ \\sqrt{a} = a^{\\frac{1}{2}}$<br><br>\n",
    "$ \\sqrt{2x} \\, =\\,  ( 2x )^{\\frac{1}{2}}$<br><br>\n",
    "<b>Aplique a regra da potência: </b> $\\frac{d}{dx}(x^a) = a\\cdot x^{a-1}$<br><br>\n",
    "$\\frac{d}{dx}(\\sqrt{2x}) = \\frac{1}{2} \\cdot (2x)^{\\frac{1}{2}-1}$<br>\n",
    "$\\frac{d}{dx}(\\sqrt{2x}) = \\frac{1}{2} \\cdot (2x)^{-\\frac{1}{2}}$<br><br>\n",
    "\n",
    "<b>Aplicando a regra do expoente: $ a^{-b} = \\frac{1}{a^b}$<br><br>\n",
    "    \n",
    "$\\frac{d}{dx}(\\sqrt{2x}) = \\frac{1}{2} \\cdot \\frac{1}{(2x)^{\\frac{1}{2}}}$<br><br>\n",
    "\n",
    "<b>Aplicando a regra do radical: $ \\sqrt{a} = a^{\\frac{1}{2}}$<br><br>\n",
    "\n",
    "$\\frac{d}{dx}(\\sqrt{2x}) = \\frac{1}{2} \\cdot \\frac{1}{\\sqrt{2x}}$<br><br>\n",
    "$\\frac{d}{dx}(\\sqrt{2x}) = \\frac{1}{2\\sqrt{2x}}$<br>\n",
    "    "
   ]
  }
 ],
 "metadata": {
  "kernelspec": {
   "display_name": "Python 3",
   "language": "python",
   "name": "python3"
  },
  "language_info": {
   "codemirror_mode": {
    "name": "ipython",
    "version": 3
   },
   "file_extension": ".py",
   "mimetype": "text/x-python",
   "name": "python",
   "nbconvert_exporter": "python",
   "pygments_lexer": "ipython3",
   "version": "3.6.4"
  }
 },
 "nbformat": 4,
 "nbformat_minor": 2
}
