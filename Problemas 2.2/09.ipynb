{
 "cells": [
  {
   "cell_type": "markdown",
   "metadata": {},
   "source": [
    "<b>Calule a derivada da função dada. Simplifique as respostas.</b>"
   ]
  },
  {
   "cell_type": "markdown",
   "metadata": {},
   "source": [
    "<b>9. $y = \\frac{9}{\\sqrt{t}}$</b>"
   ]
  },
  {
   "cell_type": "markdown",
   "metadata": {},
   "source": [
    "<b>Tirar a constante $9$ da derivada: $ 9 \\cdot \\frac{d}{dt}(\\frac{1}{\\sqrt{t}})$<br><br>\n",
    "    \n",
    "<b>Aplicando a regra do radical: $ \\sqrt{a} = a^{\\frac{1}{2}}$<br><br>\n",
    "$9 \\cdot \\frac{d}{dt}(\\frac{1}{\\sqrt{t}}) =  \\frac{1}{t^{\\frac{1}{2}}}$<br><br>\n",
    "    \n",
    "<b>Aplicando a regra do expoente: $ a^{-b} = \\frac{1}{a^b}$<br><br>\n",
    "$9 \\cdot \\frac{d}{dt}(\\frac{1}{\\sqrt{t}}) = t^{-\\frac{1}{2}}$\n",
    "\n",
    "<b>Aplicando a regra da potência: </b> $\\frac{d}{dx}(x^a) = a\\cdot x^{a-1}$<br><br>\n",
    "$9 \\cdot \\frac{d}{dt}(\\frac{1}{\\sqrt{t}}) = -\\frac{1}{2} \\cdot t^{-\\frac{1}{2}-1}$<br>\n",
    "$9 \\cdot \\frac{d}{dt}(\\frac{1}{\\sqrt{t}}) = -\\frac{1}{2} \\cdot t^{-\\frac{3}{2}}$<br><br>\n",
    "\n",
    "<b>Aplicando a regra do expoente: $ a^{-b} = \\frac{1}{a^b}$<br><br>\n",
    "$9 \\cdot \\frac{d}{dt}(\\frac{1}{\\sqrt{t}}) = -\\frac{1}{2} \\cdot \\frac{1}{t^{\\frac{3}{2}}}$<br>\n",
    "    \n",
    "<b>Aplicando a regra do radical: $ \\sqrt{a} = a^{\\frac{1}{2}}$<br><br>\n",
    "$9 \\cdot \\frac{d}{dt}(\\frac{1}{\\sqrt{t}}) = -\\frac{1}{2} \\cdot \\frac{1}{\\sqrt{t^3}}$<br>  \n",
    "$9 \\cdot \\frac{d}{dt}(\\frac{1}{\\sqrt{t}}) =  -\\frac{1}{2\\sqrt{t^3}}$<br><br>\n",
    "<b>Multiplicando pela constate</b><br><br>\n",
    "$9 \\cdot \\frac{d}{dt}(\\frac{1}{\\sqrt{t}}) = - \\frac{9}{2\\sqrt{t^3}}$<br>\n"
   ]
  }
 ],
 "metadata": {
  "kernelspec": {
   "display_name": "Python 3",
   "language": "python",
   "name": "python3"
  },
  "language_info": {
   "codemirror_mode": {
    "name": "ipython",
    "version": 3
   },
   "file_extension": ".py",
   "mimetype": "text/x-python",
   "name": "python",
   "nbconvert_exporter": "python",
   "pygments_lexer": "ipython3",
   "version": "3.6.4"
  }
 },
 "nbformat": 4,
 "nbformat_minor": 2
}
