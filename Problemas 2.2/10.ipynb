{
 "cells": [
  {
   "cell_type": "markdown",
   "metadata": {},
   "source": [
    "<b>Calule a derivada da função dada. Simplifique as respostas.</b>"
   ]
  },
  {
   "cell_type": "markdown",
   "metadata": {},
   "source": [
    "<b>10. $y = \\frac{3}{2t^2}$"
   ]
  },
  {
   "cell_type": "markdown",
   "metadata": {},
   "source": [
    "<b>Tirar a constante $\\frac{3}{2}$ da derivada: $ \\frac{3}{2} \\cdot \\frac{d}{dt}(\\frac{1}{t^2})$<br><br>\n",
    "<b>Aplicando a regra do expoente: $ a^{-b} = \\frac{1}{a^b}$<br><br>\n",
    "$ \\frac{3}{2} \\cdot \\frac{d}{dt}(\\frac{1}{t^2}) = t^{-2}$<br><br>\n",
    "\n",
    "<b>Aplicando a regra da potência: </b> $\\frac{d}{dx}(x^a) = a\\cdot x^{a-1}$<br><br>\n",
    "$ \\frac{3}{2} \\cdot \\frac{d}{dt}(\\frac{1}{t^2}) = -2\\cdot t^{-2-1}$<br>\n",
    "$ \\frac{3}{2} \\cdot \\frac{d}{dt}(\\frac{1}{t^2}) = -2\\cdot t^{-3}$<br><br>\n",
    "\n",
    "<b>Aplicando a regra do expoente: $ a^{-b} = \\frac{1}{a^b}$<br><br>\n",
    "$ \\frac{3}{2} \\cdot \\frac{d}{dt}(\\frac{1}{t^2}) = \\frac{-2}{t^3}$<br><br>\n",
    "<b>Multiplicando pela constante</b><br><br>\n",
    "$ \\frac{3}{2} \\cdot \\frac{d}{dt}(\\frac{1}{t^2}) = \\frac{3}{2} \\cdot \\frac{-2}{t^3}$<br><br>\n",
    "$ \\frac{3}{2} \\cdot \\frac{d}{dt}(\\frac{1}{t^2}) = - \\frac{6}{2t^3}$<br><br>\n",
    "$ \\frac{3}{2} \\cdot \\frac{d}{dt}(\\frac{1}{t^2}) = - \\frac{-3}{t^3}$<br><br>"
   ]
  }
 ],
 "metadata": {
  "kernelspec": {
   "display_name": "Python 3",
   "language": "python",
   "name": "python3"
  },
  "language_info": {
   "codemirror_mode": {
    "name": "ipython",
    "version": 3
   },
   "file_extension": ".py",
   "mimetype": "text/x-python",
   "name": "python",
   "nbconvert_exporter": "python",
   "pygments_lexer": "ipython3",
   "version": "3.6.4"
  }
 },
 "nbformat": 4,
 "nbformat_minor": 2
}
