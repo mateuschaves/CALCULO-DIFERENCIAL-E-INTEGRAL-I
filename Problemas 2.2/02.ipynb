{
 "cells": [
  {
   "cell_type": "markdown",
   "metadata": {},
   "source": [
    "<b>Calule a derivada da função dada. Simplifique as respostas.</b>"
   ]
  },
  {
   "cell_type": "markdown",
   "metadata": {},
   "source": [
    "<b> 2. $\\, y = x^{\\frac{7}{3}}$</b><br>"
   ]
  },
  {
   "cell_type": "markdown",
   "metadata": {},
   "source": [
    "<b>Aplique a regra da potência: </b> $\\frac{d}{dx}(x^a) = a\\cdot x^{a-1}$<br><br>\n",
    "$\\frac{d}{dx}(x^{\\frac{7}{3}}) = \\frac{7}{3}\\cdot x^{\\frac{7}{3}-1}$<br>\n",
    "$\\frac{d}{dx}(x^{\\frac{7}{3}}) = \\frac{7}{3}\\cdot x^{\\frac{4}{3}}$<br>\n",
    "$\\frac{d}{dx}(x^{\\frac{7}{3}}) = \\frac{7x^\\frac{4}{3}}{3}$<br>"
   ]
  }
 ],
 "metadata": {
  "kernelspec": {
   "display_name": "Python 3",
   "language": "python",
   "name": "python3"
  },
  "language_info": {
   "codemirror_mode": {
    "name": "ipython",
    "version": 3
   },
   "file_extension": ".py",
   "mimetype": "text/x-python",
   "name": "python",
   "nbconvert_exporter": "python",
   "pygments_lexer": "ipython3",
   "version": "3.6.4"
  }
 },
 "nbformat": 4,
 "nbformat_minor": 2
}
