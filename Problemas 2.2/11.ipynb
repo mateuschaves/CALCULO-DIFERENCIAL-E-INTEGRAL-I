{
 "cells": [
  {
   "cell_type": "markdown",
   "metadata": {},
   "source": [
    "<b>Calule a derivada da função dada. Simplifique as respostas.</b>"
   ]
  },
  {
   "cell_type": "markdown",
   "metadata": {},
   "source": [
    "<b>11. $y = x^2 + 2x + 3$</b>"
   ]
  },
  {
   "cell_type": "markdown",
   "metadata": {},
   "source": [
    "<b>Aplicando a regra da soma $\\frac{d}{dx}(f+g) = \\frac{d}{dx}(f) + \\frac{d}{dx}(g) $</b><br><br>\n",
    "$\\frac{d}{dx}(x^2) + \\frac{d}{dx}(2x) + \\frac{d}{dx}(3)$<br><br>\n",
    "\n",
    "<b>Aplicando a regra da potência: </b> $\\frac{d}{dx}(x^a) = a\\cdot x^{a-1}$<br><br>\n",
    "\n",
    "$\\frac{d}{dx}(x^2) = 2x^{2-1}$<br><br>\n",
    "$\\frac{d}{dx}(x^2) = 2x$<br><br><br>\n",
    "\n",
    "$\\frac{d}{dx}(2x) = 2x^{1-1}$<br><br>\n",
    "$\\frac{d}{dx}(2x) = 2x^0$<br><br>\n",
    "$\\frac{d}{dx}(2x) = 2$<br><br><br>\n",
    "\n",
    "<b>Derivada de uma constante é zero</b><br><br>\n",
    "$\\frac{d}{dx}(3) = 0$<br><br>\n",
    "\n",
    "$\\frac{d}{dx}(x^2) + \\frac{d}{dx}(2x) + \\frac{d}{dx}(3) = 2x + 2$<br>\n",
    "\n",
    "\n"
   ]
  }
 ],
 "metadata": {
  "kernelspec": {
   "display_name": "Python 3",
   "language": "python",
   "name": "python3"
  },
  "language_info": {
   "codemirror_mode": {
    "name": "ipython",
    "version": 3
   },
   "file_extension": ".py",
   "mimetype": "text/x-python",
   "name": "python",
   "nbconvert_exporter": "python",
   "pygments_lexer": "ipython3",
   "version": "3.6.4"
  }
 },
 "nbformat": 4,
 "nbformat_minor": 2
}
