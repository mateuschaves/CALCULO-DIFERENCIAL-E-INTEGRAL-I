{
 "cells": [
  {
   "cell_type": "markdown",
   "metadata": {},
   "source": [
    "<b>Calule a derivada da função dada. Simplifique as respostas.</b>"
   ]
  },
  {
   "cell_type": "markdown",
   "metadata": {},
   "source": [
    "<b>13. $f(x) = x^9 - 5x^8 + x + 12$"
   ]
  },
  {
   "cell_type": "markdown",
   "metadata": {},
   "source": [
    "<b>Aplicando a regra da soma $\\frac{d}{dx}(f+g) = \\frac{d}{dx}(f) + \\frac{d}{dx}(g) $</b><br><br>\n",
    "$\\frac{d}{dx}(x^9) - \\frac{d}{dx}(5x^8) + \\frac{d}{dx}(x) + \\frac{d}{dx}(12)$<br><br><br>\n",
    "\n",
    "<b>Aplicando a regra da potência: </b> $\\frac{d}{dx}(x^a) = a\\cdot x^{a-1}$<br><br><br>\n",
    "\n",
    "$\\frac{d}{dx}(x^9) = 9\\cdot x^{9-1}$<br><br>\n",
    "$\\frac{d}{dx}(x^9) = 9x^8$<br><br><br>\n",
    "\n",
    "$\\frac{d}{dx}(-5x^8) = 8 \\cdot -5x^{8-1}$<br><br>\n",
    "$\\frac{d}{dx}(-5x^8) = - 40x^7$<br><br><br>\n",
    "\n",
    "$\\frac{d}{dx}(x) = 1$<br><br><br>\n",
    "<b>Derivada de uma constante é zero</b><br><br>\n",
    "$\\frac{d}{dx}(12) = 0$<br><br>\n",
    "\n",
    "$\\frac{d}{dx}(x^9) - \\frac{d}{dx}(5x^8) + \\frac{d}{dx}(x) + \\frac{d}{dx}(12) = 9x^8 -40x^7 + 1$<br>\n",
    " \n"
   ]
  }
 ],
 "metadata": {
  "kernelspec": {
   "display_name": "Python 3",
   "language": "python",
   "name": "python3"
  },
  "language_info": {
   "codemirror_mode": {
    "name": "ipython",
    "version": 3
   },
   "file_extension": ".py",
   "mimetype": "text/x-python",
   "name": "python",
   "nbconvert_exporter": "python",
   "pygments_lexer": "ipython3",
   "version": "3.6.4"
  }
 },
 "nbformat": 4,
 "nbformat_minor": 2
}
