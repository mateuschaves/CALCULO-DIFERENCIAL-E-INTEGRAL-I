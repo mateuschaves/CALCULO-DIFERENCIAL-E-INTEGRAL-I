{
 "cells": [
  {
   "cell_type": "markdown",
   "metadata": {},
   "source": [
    "<b>Calule a derivada da função dada. Simplifique as respostas.</b>"
   ]
  },
  {
   "cell_type": "markdown",
   "metadata": {},
   "source": [
    "<b>16. $f(u) = 0.07u^4 - 1.21u^3 + 3u - 5.2 $</b><br><br>\n",
    "<b>Aplicando a regra da soma $\\frac{d}{dx}(f+g) = \\frac{d}{dx}(f) + \\frac{d}{dx}(g) $</b><br><br>\n",
    "$\\frac{d}{dx}(0.07u^4) - \\frac{d}{dx}(1.21u^3)$ + $\\frac{d}{dx}(3u)$ - $\\frac{d}{dx}(5.2)$<br><br><br>\n",
    "\n",
    "<b>Tirando a constante: $0.07 \\cdot \\frac{d}{dx}(u^4)$<b><br><br>\n",
    "$0.07 \\cdot \\frac{d}{dx}(u^4) = 4\\cdot u^{4-1}$<br><br>\n",
    "$0.07 \\cdot \\frac{d}{dx}(u^4) = 4x^3$<br><br>\n",
    "<b>Multiplicando pela constante</b><br><br>\n",
    "$0.07 \\cdot \\frac{d}{dx}(u^4) = 0.07 \\cdot 4x^3$<br><br>\n",
    "$0.07 \\cdot \\frac{d}{dx}(u^4) = 0.28x^3$<br><br><br>\n",
    "    \n",
    "<b>Tirando a constante: $1.21 \\cdot \\frac{d}{dx}(u^3)$<b><br><br>\n",
    "$1.21 \\cdot \\frac{d}{dx}(u^3) = 3\\cdot u^{3-1}$<br><br>\n",
    "$1.21 \\cdot \\frac{d}{dx}(u^3) = 3\\cdot u^{2}$<br><br>\n",
    "<b>Multiplicando pela constante</b><br><br><br>\n",
    "$1.21 \\cdot \\frac{d}{dx}(u^3) = 1.21\\cdot 3u^2$<br><br>\n",
    "$1.21 \\cdot \\frac{d}{dx}(u^3) = 3.63u^2$<br><br><br>\n",
    "    \n",
    "<b>Tirando a constante: $3 \\cdot \\frac{d}{dx}(u)$<b><br><br>\n",
    "$3 \\cdot \\frac{d}{dx}(u) = 1$<br><br>\n",
    "<b>Multiplicando pela constante</b><br><br><br>\n",
    "$3 \\cdot \\frac{d}{dx}(u^3) = 3\\cdot 1$<br><br>\n",
    "$3 \\cdot \\frac{d}{dx}(u^3) = 3$<br><br><br>\n",
    "    \n",
    "<b>Derivada de uma constante é $0$</b><br><br><br>\n",
    "$\\frac{d}{dx}(5.2) = 0$<br><br>\n",
    "    \n",
    "    \n",
    "$\\frac{d}{dx}(0.07u^4) - \\frac{d}{dx}(1.21u^3)$ + $\\frac{d}{dx}(3u)$ - $\\frac{d}{dx}(5.2) = 0.28x^3 - 3.63u^2 + 3 $"
   ]
  }
 ],
 "metadata": {
  "kernelspec": {
   "display_name": "Python 3",
   "language": "python",
   "name": "python3"
  },
  "language_info": {
   "codemirror_mode": {
    "name": "ipython",
    "version": 3
   },
   "file_extension": ".py",
   "mimetype": "text/x-python",
   "name": "python",
   "nbconvert_exporter": "python",
   "pygments_lexer": "ipython3",
   "version": "3.6.4"
  }
 },
 "nbformat": 4,
 "nbformat_minor": 2
}
