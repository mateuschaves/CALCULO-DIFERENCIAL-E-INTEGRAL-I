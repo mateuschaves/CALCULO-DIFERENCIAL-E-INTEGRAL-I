{
 "cells": [
  {
   "cell_type": "markdown",
   "metadata": {},
   "source": [
    "<b>Calule a derivada da função dada. Simplifique as respostas.</b>"
   ]
  },
  {
   "cell_type": "markdown",
   "metadata": {},
   "source": [
    "<b> 6. $y = \\frac{4}{3} \\pi r^3$<b><br><br>"
   ]
  },
  {
   "cell_type": "markdown",
   "metadata": {},
   "source": [
    "<b>Tirar a constante $\\pi$ da derivada: $ \\frac{4}{3} \\cdot \\pi  \\cdot \\frac{d}{dr}(r^3)$<br><br>\n",
    "\n",
    "<b>Aplique a regra da potência: </b> $\\frac{d}{dx}(x^a) = a\\cdot x^{a-1}$<br><br>\n",
    "\n",
    "$\\frac{4}{3} \\pi \\frac{d}{dr}(r^3) = 3r^{3-1}$<br>\n",
    "$\\frac{4}{3} \\pi \\frac{d}{dr}(r^3) = 3r^2$<br><br>\n",
    "\n",
    "<b>Multiplicando pela constante</b><br><br>\n",
    "\n",
    "$\\frac{4}{3} \\pi \\frac{d}{dr}(r^3) = \\frac{4}{3} \\cdot \\pi \\cdot 3r^2$<br><br>\n",
    "\n",
    "<b>Simplificando a equação</b><br><br>\n",
    "\n",
    "$\\frac{4}{3} \\pi \\frac{d}{dr}(r^3) = 4\\pi r^2$"
   ]
  }
 ],
 "metadata": {
  "kernelspec": {
   "display_name": "Python 3",
   "language": "python",
   "name": "python3"
  },
  "language_info": {
   "codemirror_mode": {
    "name": "ipython",
    "version": 3
   },
   "file_extension": ".py",
   "mimetype": "text/x-python",
   "name": "python",
   "nbconvert_exporter": "python",
   "pygments_lexer": "ipython3",
   "version": "3.6.4"
  }
 },
 "nbformat": 4,
 "nbformat_minor": 2
}
