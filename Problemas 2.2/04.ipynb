{
 "cells": [
  {
   "cell_type": "markdown",
   "metadata": {},
   "source": [
    "<b>Calule a derivada da função dada. Simplifique as respostas.</b>"
   ]
  },
  {
   "cell_type": "markdown",
   "metadata": {},
   "source": [
    "<b>4. $y = x^{3.7}$</b><br><br>\n",
    "<b>Aplique a regra da potência: </b> $\\frac{d}{dx}(x^a) = a\\cdot x^{a-1}$<br><br>\n",
    "$\\frac{d}{dx}(x^{3.7}) = 3.7x^{3.7-1}$<br>\n",
    "$\\frac{d}{dx}(x^{3.7}) = 3.7x^{2.7}$<br>"
   ]
  }
 ],
 "metadata": {
  "kernelspec": {
   "display_name": "Python 3",
   "language": "python",
   "name": "python3"
  },
  "language_info": {
   "codemirror_mode": {
    "name": "ipython",
    "version": 3
   },
   "file_extension": ".py",
   "mimetype": "text/x-python",
   "name": "python",
   "nbconvert_exporter": "python",
   "pygments_lexer": "ipython3",
   "version": "3.6.4"
  }
 },
 "nbformat": 4,
 "nbformat_minor": 2
}
