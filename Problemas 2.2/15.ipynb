{
 "cells": [
  {
   "cell_type": "markdown",
   "metadata": {},
   "source": [
    "<b>Calule a derivada da função dada. Simplifique as respostas.</b>"
   ]
  },
  {
   "cell_type": "markdown",
   "metadata": {},
   "source": [
    "<b>15. $f(x) = -0.02x^3 + 0.3x$</b>"
   ]
  },
  {
   "cell_type": "markdown",
   "metadata": {},
   "source": [
    "<b>Aplicando a regra da soma $\\frac{d}{dx}(f+g) = \\frac{d}{dx}(f) + \\frac{d}{dx}(g) $</b><br><br>\n",
    "$-\\frac{d}{dx}(0.02x^3) + \\frac{d}{dx}(0.3x)$<br><br><br>\n",
    "\n",
    "<b>Tirando a constante: $0.02 \\cdot \\frac{d}{dx}(x^3)$<b><br><br>\n",
    "$0.02 \\cdot \\frac{d}{dx}(-x^3) = -3\\cdot x^{3-1}$<br><br>\n",
    "$0.02 \\cdot \\frac{d}{dx}(-x^3) = -3x^2$<br><br>\n",
    "<b>Multiplicando pela constante</b><br><br>\n",
    "$0.02 \\cdot \\frac{d}{dx}(-x^3) = -0.02 \\cdot 3x^2$<br><br>\n",
    "$0.02 \\cdot \\frac{d}{dx}(-x^3) = -0.06x^2$<br><br><br>\n",
    "    \n",
    "<b>Tirando a constante: $0.3 \\cdot \\frac{d}{dx}(x)$<b><br><br>\n",
    "$0.3 \\cdot \\frac{d}{dx}(x) = 1$<br><br>\n",
    "<b>Multiplicando pela constante</b><br><br><br>\n",
    "$0.3 \\cdot \\frac{d}{dx}(x) = 0.3\\cdot 1$<br><br>\n",
    "$0.3 \\cdot \\frac{d}{dx}(x) = 0.3$<br><br><br>\n",
    "    \n",
    "$-\\frac{d}{dx}(0.02x^3) + \\frac{d}{dx}(0.3x) = -0.06x^2 + 0.3$"
   ]
  }
 ],
 "metadata": {
  "kernelspec": {
   "display_name": "Python 3",
   "language": "python",
   "name": "python3"
  },
  "language_info": {
   "codemirror_mode": {
    "name": "ipython",
    "version": 3
   },
   "file_extension": ".py",
   "mimetype": "text/x-python",
   "name": "python",
   "nbconvert_exporter": "python",
   "pygments_lexer": "ipython3",
   "version": "3.6.4"
  }
 },
 "nbformat": 4,
 "nbformat_minor": 2
}
