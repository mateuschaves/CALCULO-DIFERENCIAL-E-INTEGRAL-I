{
 "cells": [
  {
   "cell_type": "markdown",
   "metadata": {},
   "source": [
    "<b>Calule a derivada da função dada. Simplifique as respostas.</b>"
   ]
  },
  {
   "cell_type": "markdown",
   "metadata": {},
   "source": [
    "<b>12. $y = 3x^5 - 4x^3 + 9x -6$</b>"
   ]
  },
  {
   "cell_type": "markdown",
   "metadata": {},
   "source": [
    "<b>Aplicando a regra da soma $\\frac{d}{dx}(f+g) = \\frac{d}{dx}(f) + \\frac{d}{dx}(g) $</b><br><br>\n",
    "$\\frac{d}{dx}(3x^5) - \\frac{d}{dx}(4x^3) + \\frac{d}{dx}(9x) - \\frac{d}{dx}(6)$<br><br><br>\n",
    "\n",
    "<b>Aplicando a regra da potência: </b> $\\frac{d}{dx}(x^a) = a\\cdot x^{a-1}$<br><br><br>\n",
    "$\\frac{d}{dx}(3x^5) = 5\\cdot 3x^{5-1}$<br><br>\n",
    "$\\frac{d}{dx}(3x^5) = 5\\cdot 3x^4$<br><br>\n",
    "$\\frac{d}{dx}(3x^5) = 15x^4$<br><br><br>\n",
    "\n",
    "$\\frac{d}{dx}(-4x^3) = 3\\cdot - 4x^{3-1}$<br><br>\n",
    "$\\frac{d}{dx}(-4x^3) = 3\\cdot - 4x^2$<br><br>\n",
    "$\\frac{d}{dx}(-4x^3) = -12x^2$<br><br><br>\n",
    "\n",
    "$\\frac{d}{dx}(9x) = 1\\cdot 9x^{1-1}$<br><br>\n",
    "$\\frac{d}{dx}(9x) = 1\\cdot 9$<br><br>\n",
    "$\\frac{d}{dx}(9x) = 9$<br><br><br>\n",
    "\n",
    "<b>Derivada de uma constante é zero</b><br><br>\n",
    "$\\frac{d}{dx}(-6) = 0$<br><br><br><br>\n",
    "\n",
    "$\\frac{d}{dx}(3x^5) - \\frac{d}{dx}(4x^3) + \\frac{d}{dx}(9x) - \\frac{d}{dx}(6) = 15x^4 - 12x^2 + 9$\n",
    "\n",
    "\n"
   ]
  }
 ],
 "metadata": {
  "kernelspec": {
   "display_name": "Python 3",
   "language": "python",
   "name": "python3"
  },
  "language_info": {
   "codemirror_mode": {
    "name": "ipython",
    "version": 3
   },
   "file_extension": ".py",
   "mimetype": "text/x-python",
   "name": "python",
   "nbconvert_exporter": "python",
   "pygments_lexer": "ipython3",
   "version": "3.6.4"
  }
 },
 "nbformat": 4,
 "nbformat_minor": 2
}
