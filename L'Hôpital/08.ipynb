{
 "cells": [
  {
   "cell_type": "markdown",
   "metadata": {},
   "source": [
    "<b>i) $lim_{x \\rightarrow 0} \\frac{x - sen(x)}{x - tg(x)}$</b>"
   ]
  },
  {
   "cell_type": "markdown",
   "metadata": {},
   "source": [
    "<b>Substituindo $0$ na fórmula, temos</b>"
   ]
  },
  {
   "cell_type": "markdown",
   "metadata": {},
   "source": [
    "$\\frac{0 - sen(0)}{0 - tg(0)} = \\frac{0}{0}$"
   ]
  },
  {
   "cell_type": "markdown",
   "metadata": {},
   "source": [
    "<b>Derivando</b>"
   ]
  },
  {
   "cell_type": "markdown",
   "metadata": {},
   "source": [
    "$lim_{x \\rightarrow 0} \\frac{1 - cos(x)}{1 - sec^2(x)} \\rightarrow \\frac{1 - cos(0)}{1 - sec^2{(0)}} \\rightarrow \\frac{0}{0}$"
   ]
  },
  {
   "cell_type": "markdown",
   "metadata": {},
   "source": [
    "<b>Derivando novamente</b>"
   ]
  },
  {
   "cell_type": "markdown",
   "metadata": {},
   "source": [
    "$lim_{x \\rightarrow 0} \\frac{sen(x)}{-2sec^2(x)tg(x)} \\rightarrow \\frac{sen(0)}{-2sec^2(0)tg(0)} = \\frac{0}{0}$"
   ]
  },
  {
   "cell_type": "markdown",
   "metadata": {},
   "source": [
    "<b>Derivando novamente²</b>"
   ]
  },
  {
   "cell_type": "markdown",
   "metadata": {},
   "source": [
    "$lim_{x \\rightarrow 0} \\frac{cos(x)}{-4(sec(x)tg(x))^2 - 2sec^4(x)} \\rightarrow \\frac{cos(0)}{-4(sec(0)tg(0))^2 - 2sec^4(0)} = \\frac{1}{-2}$"
   ]
  }
 ],
 "metadata": {
  "kernelspec": {
   "display_name": "Python 3",
   "language": "python",
   "name": "python3"
  },
  "language_info": {
   "codemirror_mode": {
    "name": "ipython",
    "version": 3
   },
   "file_extension": ".py",
   "mimetype": "text/x-python",
   "name": "python",
   "nbconvert_exporter": "python",
   "pygments_lexer": "ipython3",
   "version": "3.6.5"
  }
 },
 "nbformat": 4,
 "nbformat_minor": 2
}
