{
 "cells": [
  {
   "cell_type": "markdown",
   "metadata": {},
   "source": [
    "<b>h) $lim_{x \\rightarrow 0} \\frac{\\sqrt{1 + 2x} - \\sqrt{1 - 4x}}{x}$</b>"
   ]
  },
  {
   "cell_type": "markdown",
   "metadata": {},
   "source": [
    "<b>Substituindo $0$ na equação, temos</b>"
   ]
  },
  {
   "cell_type": "markdown",
   "metadata": {},
   "source": [
    "$\\frac{\\sqrt{1 + 2\\cdot (0)} - \\sqrt{1 - 4 \\cdot (0)} }{0} \\rightarrow \\frac{0}{0}$"
   ]
  },
  {
   "cell_type": "markdown",
   "metadata": {},
   "source": [
    "<b>Derivando $\\sqrt{1 + 2x}$</b>"
   ]
  },
  {
   "cell_type": "markdown",
   "metadata": {},
   "source": [
    "<b>Podemos reescrever a equação acima de seguinte forma para facilitar a derivada $y = (1 + 2x)^{\\frac{1}{2}}$</b>"
   ]
  },
  {
   "cell_type": "markdown",
   "metadata": {},
   "source": [
    "<b>Derivando pela regra da cadeia</b>"
   ]
  },
  {
   "cell_type": "markdown",
   "metadata": {},
   "source": [
    "$y' = \\frac{1}{2} \\cdot (1 + 2x)^{-\\frac{1}{2}} \\cdot 2$"
   ]
  },
  {
   "cell_type": "markdown",
   "metadata": {},
   "source": [
    "$y' = \\frac{1}{\\sqrt{(1 + 2x)}}$"
   ]
  },
  {
   "cell_type": "markdown",
   "metadata": {},
   "source": [
    "<b>Derivando $\\sqrt{1 - 4x}$</b>"
   ]
  },
  {
   "cell_type": "markdown",
   "metadata": {},
   "source": [
    "<b>Podemos reescrever a equação acima de seguinte forma para facilitar a derivada $g = (1 - 4x)^{\\frac{1}{2}}$</b>"
   ]
  },
  {
   "cell_type": "markdown",
   "metadata": {},
   "source": [
    "$g' = \\frac{1}{2} \\cdot (1 - 4x)^{-\\frac{1}{2}} \\cdot -4$"
   ]
  },
  {
   "cell_type": "markdown",
   "metadata": {},
   "source": [
    "$g'= -\\frac{2}{\\sqrt{1 - 4x}}$"
   ]
  },
  {
   "cell_type": "markdown",
   "metadata": {},
   "source": [
    "<b>Escrevendo agora o limite com a primeira derivada</b>"
   ]
  },
  {
   "cell_type": "markdown",
   "metadata": {},
   "source": [
    "$lim_{x \\rightarrow 0} \\frac{ \\frac{1}{\\sqrt{1+2x}} - (-\\frac{2}{\\sqrt{1 - 4x}}) }{1}$"
   ]
  },
  {
   "cell_type": "markdown",
   "metadata": {},
   "source": [
    "$lim_{x \\rightarrow 0} \\frac{1}{\\sqrt{1+2x}} + \\frac{2}{\\sqrt{1 - 4x}} \\rightarrow \\frac{1}{\\sqrt{1 + 2(0)}} + \\frac{2}{\\sqrt{1 - 4(0)}} \\rightarrow 3 $"
   ]
  }
 ],
 "metadata": {
  "kernelspec": {
   "display_name": "Python 3",
   "language": "python",
   "name": "python3"
  },
  "language_info": {
   "codemirror_mode": {
    "name": "ipython",
    "version": 3
   },
   "file_extension": ".py",
   "mimetype": "text/x-python",
   "name": "python",
   "nbconvert_exporter": "python",
   "pygments_lexer": "ipython3",
   "version": "3.6.5"
  }
 },
 "nbformat": 4,
 "nbformat_minor": 2
}
