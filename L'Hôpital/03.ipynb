{
 "cells": [
  {
   "cell_type": "markdown",
   "metadata": {},
   "source": [
    "<b>c) $lim_{x \\rightarrow \\frac{1}{2}} \\frac{6x^2 + 5x - 4}{4x^2 + 16x - 9}$</b>"
   ]
  },
  {
   "cell_type": "markdown",
   "metadata": {},
   "source": [
    "<b>Substituindo $\\frac{1}{2}$ na fórmula, temos:</b>"
   ]
  },
  {
   "cell_type": "markdown",
   "metadata": {},
   "source": [
    "$\\frac{6(\\frac{1}{2})^2 + 5(\\frac{1}{2}) - 4}{ 4(\\frac{1}{2})^2 + 16(\\frac{1}{2}) - 9 } \\rightarrow \\frac{0}{0}$"
   ]
  },
  {
   "cell_type": "markdown",
   "metadata": {},
   "source": [
    "<b>Aplicando a regra de L'Hôpital</b>"
   ]
  },
  {
   "cell_type": "markdown",
   "metadata": {},
   "source": [
    "$lim_{x \\rightarrow \\frac{1}{2}} \\frac{12x + 5}{8x + 16} \\rightarrow \\frac{11}{20}$"
   ]
  }
 ],
 "metadata": {
  "kernelspec": {
   "display_name": "Python 3",
   "language": "python",
   "name": "python3"
  },
  "language_info": {
   "codemirror_mode": {
    "name": "ipython",
    "version": 3
   },
   "file_extension": ".py",
   "mimetype": "text/x-python",
   "name": "python",
   "nbconvert_exporter": "python",
   "pygments_lexer": "ipython3",
   "version": "3.6.5"
  }
 },
 "nbformat": 4,
 "nbformat_minor": 2
}
